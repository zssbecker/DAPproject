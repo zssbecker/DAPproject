{
  "nbformat": 4,
  "nbformat_minor": 0,
  "metadata": {
    "colab": {
      "name": "project_crawling.ipynb",
      "provenance": [],
      "collapsed_sections": [],
      "authorship_tag": "ABX9TyP1Bg7aQTqiN5Euxt5MyovN",
      "include_colab_link": true
    },
    "kernelspec": {
      "name": "python3",
      "display_name": "Python 3"
    },
    "language_info": {
      "name": "python"
    }
  },
  "cells": [
    {
      "cell_type": "markdown",
      "metadata": {
        "id": "view-in-github",
        "colab_type": "text"
      },
      "source": [
        "<a href=\"https://colab.research.google.com/github/yoohw0317/DAPproject/blob/main/project_crawling.ipynb\" target=\"_parent\"><img src=\"https://colab.research.google.com/assets/colab-badge.svg\" alt=\"Open In Colab\"/></a>"
      ]
    },
    {
      "cell_type": "markdown",
      "metadata": {
        "id": "otszyeVMC9HQ"
      },
      "source": [
        "Colab에는 selenium을 따로 설치해야 사용할 수 있습니다.\n",
        "\n",
        "이 selenium을 통해서 웹 크롤링을 할 수 있습니다."
      ]
    },
    {
      "cell_type": "code",
      "metadata": {
        "colab": {
          "base_uri": "https://localhost:8080/"
        },
        "id": "DCKb43TIqBbR",
        "outputId": "421a497b-a89f-414b-fa18-c18ffebb699e"
      },
      "source": [
        "!pip install selenium\n",
        "!apt-get update\n",
        "!apt install chromium-chromedriver"
      ],
      "execution_count": 1,
      "outputs": [
        {
          "output_type": "stream",
          "name": "stdout",
          "text": [
            "Requirement already satisfied: selenium in /usr/local/lib/python3.7/dist-packages (4.1.0)\n",
            "Requirement already satisfied: trio~=0.17 in /usr/local/lib/python3.7/dist-packages (from selenium) (0.19.0)\n",
            "Requirement already satisfied: urllib3[secure]~=1.26 in /usr/local/lib/python3.7/dist-packages (from selenium) (1.26.7)\n",
            "Requirement already satisfied: trio-websocket~=0.9 in /usr/local/lib/python3.7/dist-packages (from selenium) (0.9.2)\n",
            "Requirement already satisfied: outcome in /usr/local/lib/python3.7/dist-packages (from trio~=0.17->selenium) (1.1.0)\n",
            "Requirement already satisfied: attrs>=19.2.0 in /usr/local/lib/python3.7/dist-packages (from trio~=0.17->selenium) (21.2.0)\n",
            "Requirement already satisfied: sniffio in /usr/local/lib/python3.7/dist-packages (from trio~=0.17->selenium) (1.2.0)\n",
            "Requirement already satisfied: sortedcontainers in /usr/local/lib/python3.7/dist-packages (from trio~=0.17->selenium) (2.4.0)\n",
            "Requirement already satisfied: idna in /usr/local/lib/python3.7/dist-packages (from trio~=0.17->selenium) (2.10)\n",
            "Requirement already satisfied: async-generator>=1.9 in /usr/local/lib/python3.7/dist-packages (from trio~=0.17->selenium) (1.10)\n",
            "Requirement already satisfied: wsproto>=0.14 in /usr/local/lib/python3.7/dist-packages (from trio-websocket~=0.9->selenium) (1.0.0)\n",
            "Requirement already satisfied: pyOpenSSL>=0.14 in /usr/local/lib/python3.7/dist-packages (from urllib3[secure]~=1.26->selenium) (21.0.0)\n",
            "Requirement already satisfied: cryptography>=1.3.4 in /usr/local/lib/python3.7/dist-packages (from urllib3[secure]~=1.26->selenium) (36.0.0)\n",
            "Requirement already satisfied: certifi in /usr/local/lib/python3.7/dist-packages (from urllib3[secure]~=1.26->selenium) (2021.10.8)\n",
            "Requirement already satisfied: cffi>=1.12 in /usr/local/lib/python3.7/dist-packages (from cryptography>=1.3.4->urllib3[secure]~=1.26->selenium) (1.15.0)\n",
            "Requirement already satisfied: pycparser in /usr/local/lib/python3.7/dist-packages (from cffi>=1.12->cryptography>=1.3.4->urllib3[secure]~=1.26->selenium) (2.21)\n",
            "Requirement already satisfied: six>=1.5.2 in /usr/local/lib/python3.7/dist-packages (from pyOpenSSL>=0.14->urllib3[secure]~=1.26->selenium) (1.15.0)\n",
            "Requirement already satisfied: h11<1,>=0.9.0 in /usr/local/lib/python3.7/dist-packages (from wsproto>=0.14->trio-websocket~=0.9->selenium) (0.12.0)\n",
            "Hit:1 https://cloud.r-project.org/bin/linux/ubuntu bionic-cran40/ InRelease\n",
            "Ign:2 https://developer.download.nvidia.com/compute/cuda/repos/ubuntu1804/x86_64  InRelease\n",
            "Hit:3 http://ppa.launchpad.net/c2d4u.team/c2d4u4.0+/ubuntu bionic InRelease\n",
            "Ign:4 https://developer.download.nvidia.com/compute/machine-learning/repos/ubuntu1804/x86_64  InRelease\n",
            "Get:5 http://security.ubuntu.com/ubuntu bionic-security InRelease [88.7 kB]\n",
            "Hit:6 https://developer.download.nvidia.com/compute/cuda/repos/ubuntu1804/x86_64  Release\n",
            "Hit:7 http://archive.ubuntu.com/ubuntu bionic InRelease\n",
            "Hit:8 https://developer.download.nvidia.com/compute/machine-learning/repos/ubuntu1804/x86_64  Release\n",
            "Hit:9 http://archive.ubuntu.com/ubuntu bionic-updates InRelease\n",
            "Hit:10 http://ppa.launchpad.net/cran/libgit2/ubuntu bionic InRelease\n",
            "Get:11 http://archive.ubuntu.com/ubuntu bionic-backports InRelease [74.6 kB]\n",
            "Hit:12 http://ppa.launchpad.net/deadsnakes/ppa/ubuntu bionic InRelease\n",
            "Hit:13 http://ppa.launchpad.net/graphics-drivers/ppa/ubuntu bionic InRelease\n",
            "Fetched 163 kB in 4s (38.5 kB/s)\n",
            "Reading package lists... Done\n",
            "Reading package lists... Done\n",
            "Building dependency tree       \n",
            "Reading state information... Done\n",
            "chromium-chromedriver is already the newest version (95.0.4638.69-0ubuntu0.18.04.1).\n",
            "0 upgraded, 0 newly installed, 0 to remove and 42 not upgraded.\n"
          ]
        }
      ]
    },
    {
      "cell_type": "markdown",
      "metadata": {
        "id": "Yv3_YXzLDXvc"
      },
      "source": [
        "필요한 라이브러리들을 import해줍니다."
      ]
    },
    {
      "cell_type": "code",
      "metadata": {
        "id": "ifMGdwhhleBb"
      },
      "source": [
        "import time\n",
        "import pandas as pd\n",
        "from bs4 import BeautifulSoup\n",
        "from selenium import webdriver"
      ],
      "execution_count": 2,
      "outputs": []
    },
    {
      "cell_type": "code",
      "metadata": {
        "colab": {
          "base_uri": "https://localhost:8080/"
        },
        "id": "5DMCGQr6sQkj",
        "outputId": "2b45252d-03c4-4311-c656-6324e1037cf6"
      },
      "source": [
        "chrome_options = webdriver.ChromeOptions()\n",
        "chrome_options.add_argument('--headless')\n",
        "chrome_options.add_argument('--no-sandbox')\n",
        "chrome_options.add_argument('--disable-dev-shm-usage')\n",
        "chrome_options.add_argument('--incognito')\n",
        "driver = webdriver.Chrome('chromedriver', chrome_options=chrome_options)\n",
        "data = pd.DataFrame(columns = {'score', 'review'})"
      ],
      "execution_count": 3,
      "outputs": [
        {
          "output_type": "stream",
          "name": "stderr",
          "text": [
            "/usr/local/lib/python3.7/dist-packages/ipykernel_launcher.py:6: DeprecationWarning: use options instead of chrome_options\n",
            "  \n"
          ]
        }
      ]
    },
    {
      "cell_type": "code",
      "metadata": {
        "colab": {
          "base_uri": "https://localhost:8080/"
        },
        "id": "zmx_OOxbr0DM",
        "outputId": "48f1b92f-67c1-49a7-ff91-218f732f4d65"
      },
      "source": [
        "url = 'https://www.tripadvisor.co.kr/Hotel_Review-g294197-d12310284-Reviews-or0-Signiel_Seoul-Seoul.html'\n",
        "driver.get(url)\n",
        "time.sleep(5)\n",
        "reviews=driver.find_elements_by_css_selector(\"span.cvxmR\")[1].text\n",
        "reviews=reviews.split('(')[1].split(')')[0]\n",
        "reviews=int(reviews)"
      ],
      "execution_count": 4,
      "outputs": [
        {
          "output_type": "stream",
          "name": "stderr",
          "text": [
            "/usr/local/lib/python3.7/dist-packages/ipykernel_launcher.py:4: DeprecationWarning: find_elements_by_* commands are deprecated. Please use find_elements() instead\n",
            "  after removing the cwd from sys.path.\n"
          ]
        }
      ]
    },
    {
      "cell_type": "code",
      "metadata": {
        "colab": {
          "base_uri": "https://localhost:8080/"
        },
        "id": "BRZaW8Bw-stp",
        "outputId": "c974f9aa-9ffa-464c-fc12-0fabc71bff60"
      },
      "source": [
        "i = 0\n",
        "while True:\n",
        "  if (reviews - i <= -5):\n",
        "    break\n",
        "  url_head = 'https://www.tripadvisor.co.kr/Hotel_Review-g294197-d12310284-Reviews-or'\n",
        "  url_number = str(i)\n",
        "  url_tail = '-Signiel_Seoul-Seoul.html#REVIEWS'\n",
        "  url = url_head + url_number + url_tail\n",
        "  driver.get(url)\n",
        "\n",
        "  time.sleep(5)\n",
        "  try: \n",
        "    driver.find_elements_by_css_selector(\"div.dlJyA\")[0].click()\n",
        "  except:\n",
        "    driver.find_elements_by_css_selector(\"div.dlJyA\")[0].click()\n",
        "\n",
        "\n",
        "  time.sleep(1)\n",
        "  html_doc = driver.page_source\n",
        "  soup = BeautifulSoup(html_doc)\n",
        "  data_tags = soup.select('q.XllAv.H4._a span')\n",
        "  data_scores = soup.select('div.emWez.F1 span.ui_bubble_rating')\n",
        "\n",
        "\n",
        "  for tag, score in zip(data_tags, data_scores):\n",
        "    review = str(score).split(\"bubble_\")[2].split('\"></span>')[0]\n",
        "    data_insert = {'review': tag.text.strip(), 'score': int(review)/10}\n",
        "    data = data.append(data_insert, ignore_index=True)\n",
        "  i += 5"
      ],
      "execution_count": 5,
      "outputs": [
        {
          "output_type": "stream",
          "name": "stderr",
          "text": [
            "/usr/local/lib/python3.7/dist-packages/ipykernel_launcher.py:13: DeprecationWarning: find_elements_by_* commands are deprecated. Please use find_elements() instead\n",
            "  del sys.path[0]\n"
          ]
        }
      ]
    },
    {
      "cell_type": "code",
      "metadata": {
        "colab": {
          "base_uri": "https://localhost:8080/",
          "height": 423
        },
        "id": "u7P3gRaRwG_c",
        "outputId": "104a0a99-802c-4b83-f626-91d74ed20b69"
      },
      "source": [
        "from google.colab import files\n",
        "\n",
        "data\n",
        "#data.to_excel('/home/data.xlsx')\n",
        "#files.download('/home/data.xlsx')"
      ],
      "execution_count": 6,
      "outputs": [
        {
          "output_type": "execute_result",
          "data": {
            "text/html": [
              "<div>\n",
              "<style scoped>\n",
              "    .dataframe tbody tr th:only-of-type {\n",
              "        vertical-align: middle;\n",
              "    }\n",
              "\n",
              "    .dataframe tbody tr th {\n",
              "        vertical-align: top;\n",
              "    }\n",
              "\n",
              "    .dataframe thead th {\n",
              "        text-align: right;\n",
              "    }\n",
              "</style>\n",
              "<table border=\"1\" class=\"dataframe\">\n",
              "  <thead>\n",
              "    <tr style=\"text-align: right;\">\n",
              "      <th></th>\n",
              "      <th>score</th>\n",
              "      <th>review</th>\n",
              "    </tr>\n",
              "  </thead>\n",
              "  <tbody>\n",
              "    <tr>\n",
              "      <th>0</th>\n",
              "      <td>5.0</td>\n",
              "      <td>11/26~27일 숙박이었는데 그 시간에 일해주신 분들이 너무 친절해서 좋았습니다....</td>\n",
              "    </tr>\n",
              "    <tr>\n",
              "      <th>1</th>\n",
              "      <td>2.0</td>\n",
              "      <td>숙박 바우처가 생겨서 11월 24일 투숙을 했습니다.일이 생겨서 저녁 7시쯤 늦게 ...</td>\n",
              "    </tr>\n",
              "    <tr>\n",
              "      <th>2</th>\n",
              "      <td>5.0</td>\n",
              "      <td>모든것이 좋았습니다.다만 욕조 물빠지는 소리가 좀 거슬리긴 했어요그거 외에는 인생에...</td>\n",
              "    </tr>\n",
              "    <tr>\n",
              "      <th>3</th>\n",
              "      <td>5.0</td>\n",
              "      <td>엄마랑 처음 호캉스 간거엿는데 호텔 입구부터 직원분들의 친절함, 그리고 객실 상태 ...</td>\n",
              "    </tr>\n",
              "    <tr>\n",
              "      <th>4</th>\n",
              "      <td>5.0</td>\n",
              "      <td>결혼 후에 특별한 숙박을 위해 방문했습니다. 최고의 서비스와 시설들로 매우 만족스러...</td>\n",
              "    </tr>\n",
              "    <tr>\n",
              "      <th>...</th>\n",
              "      <td>...</td>\n",
              "      <td>...</td>\n",
              "    </tr>\n",
              "    <tr>\n",
              "      <th>428</th>\n",
              "      <td>5.0</td>\n",
              "      <td>우리는 2박을 묵었는데 서명인 서울. 대부분의 택시 기사가 호텔을 모르는 서명인, ...</td>\n",
              "    </tr>\n",
              "    <tr>\n",
              "      <th>429</th>\n",
              "      <td>5.0</td>\n",
              "      <td>우리는 두 개의 절대적으로 환상적인, 잊을 수 없는 일을 서명인. 도착했을 때, 우...</td>\n",
              "    </tr>\n",
              "    <tr>\n",
              "      <th>430</th>\n",
              "      <td>5.0</td>\n",
              "      <td>다음에도 꼭 이곳에 다시 올 걸지 사용자_이름:. 방에 도착했을 때 제공된 웰컴 드...</td>\n",
              "    </tr>\n",
              "    <tr>\n",
              "      <th>431</th>\n",
              "      <td>5.0</td>\n",
              "      <td>76 층 로비. 시작할 수 있습니다. 룸 92 차 바닥. 환상적인 전망이 다. 매우...</td>\n",
              "    </tr>\n",
              "    <tr>\n",
              "      <th>432</th>\n",
              "      <td>5.0</td>\n",
              "      <td>제가 사랑하는 내에서의 signiel. 전망은 놀라운 호텔 직원들이 도와 요청해도 ...</td>\n",
              "    </tr>\n",
              "  </tbody>\n",
              "</table>\n",
              "<p>433 rows × 2 columns</p>\n",
              "</div>"
            ],
            "text/plain": [
              "     score                                             review\n",
              "0      5.0  11/26~27일 숙박이었는데 그 시간에 일해주신 분들이 너무 친절해서 좋았습니다....\n",
              "1      2.0  숙박 바우처가 생겨서 11월 24일 투숙을 했습니다.일이 생겨서 저녁 7시쯤 늦게 ...\n",
              "2      5.0  모든것이 좋았습니다.다만 욕조 물빠지는 소리가 좀 거슬리긴 했어요그거 외에는 인생에...\n",
              "3      5.0  엄마랑 처음 호캉스 간거엿는데 호텔 입구부터 직원분들의 친절함, 그리고 객실 상태 ...\n",
              "4      5.0  결혼 후에 특별한 숙박을 위해 방문했습니다. 최고의 서비스와 시설들로 매우 만족스러...\n",
              "..     ...                                                ...\n",
              "428    5.0  우리는 2박을 묵었는데 서명인 서울. 대부분의 택시 기사가 호텔을 모르는 서명인, ...\n",
              "429    5.0  우리는 두 개의 절대적으로 환상적인, 잊을 수 없는 일을 서명인. 도착했을 때, 우...\n",
              "430    5.0  다음에도 꼭 이곳에 다시 올 걸지 사용자_이름:. 방에 도착했을 때 제공된 웰컴 드...\n",
              "431    5.0  76 층 로비. 시작할 수 있습니다. 룸 92 차 바닥. 환상적인 전망이 다. 매우...\n",
              "432    5.0  제가 사랑하는 내에서의 signiel. 전망은 놀라운 호텔 직원들이 도와 요청해도 ...\n",
              "\n",
              "[433 rows x 2 columns]"
            ]
          },
          "metadata": {},
          "execution_count": 6
        }
      ]
    }
  ]
}